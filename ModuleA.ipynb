{
  "nbformat": 4,
  "nbformat_minor": 0,
  "metadata": {
    "colab": {
      "provenance": [],
      "authorship_tag": "ABX9TyP/EU0E+IhfMhD0JUp/QSSy",
      "include_colab_link": true
    },
    "kernelspec": {
      "name": "python3",
      "display_name": "Python 3"
    },
    "language_info": {
      "name": "python"
    }
  },
  "cells": [
    {
      "cell_type": "markdown",
      "metadata": {
        "id": "view-in-github",
        "colab_type": "text"
      },
      "source": [
        "<a href=\"https://colab.research.google.com/github/xinyang4O4/MAT421/blob/main/ModuleA.ipynb\" target=\"_parent\"><img src=\"https://colab.research.google.com/assets/colab-badge.svg\" alt=\"Open In Colab\"/></a>"
      ]
    },
    {
      "cell_type": "markdown",
      "source": [
        "# 9.1 Base-N and Binary"
      ],
      "metadata": {
        "id": "z-zvzdkK3XUT"
      }
    },
    {
      "cell_type": "markdown",
      "source": [
        "Base N is a kind of way to denote numbers such that it carries to the next digit with count of every N numbers.\n",
        "\n",
        "Usually, people use base-10 numbers, which we called decimal numbers in our daily life; while computers use base-2 numbers, which we call them binary numbers.\n",
        "\n",
        "To convert between different base (for example from decimal to binary), we can do:\n",
        "\n",
        "21(base-10) = 2 * 10^1 + 1 * 1^0 = 1 * 2^4 + 1 * 2^2 + 1 * 2^0 = 10101(base-2)\n",
        "\n",
        "In python, we can always use command bin(n) to turn the decimal form number n into binary form"
      ],
      "metadata": {
        "id": "lkijPqAbDkIX"
      }
    },
    {
      "cell_type": "code",
      "source": [
        "bin(21)"
      ],
      "metadata": {
        "id": "nt7qRNG1EFOn",
        "outputId": "fc08fd3b-bac3-45db-e851-548f254ee577",
        "colab": {
          "base_uri": "https://localhost:8080/",
          "height": 35
        }
      },
      "execution_count": 1,
      "outputs": [
        {
          "output_type": "execute_result",
          "data": {
            "text/plain": [
              "'0b10101'"
            ],
            "application/vnd.google.colaboratory.intrinsic+json": {
              "type": "string"
            }
          },
          "metadata": {},
          "execution_count": 1
        }
      ]
    },
    {
      "cell_type": "markdown",
      "source": [
        "We can also do addition and multiplication with base-n numbers, for example, base-2.\n",
        "The addition in binary is the same as what we do in base-10.\n",
        "\n",
        "43 + 28 = 71\n",
        "\n",
        "in binary form, we are calculating 101011+11100, which equals to\n",
        "\n",
        "2^5 * 1 + 2^4 * 1+2^3 * (1+1) + 2^2 * 1 + 2^1 * 1 + 2^0 * 1 = 1000111(base-2) = 71(base-10)"
      ],
      "metadata": {
        "id": "A9eU4Nl76voT"
      }
    },
    {
      "cell_type": "code",
      "source": [
        "a = 2**5 * 1 + 2**4 * 1+2**3 * (1+1) + 2**2 * 1 + 2**1 * 1 + 2**0 * 1\n",
        "print(a)\n",
        "bin(a)"
      ],
      "metadata": {
        "colab": {
          "base_uri": "https://localhost:8080/",
          "height": 53
        },
        "id": "r-kA1lqF9djP",
        "outputId": "75c880ff-2c8d-4560-85d8-fd5a20c75ed9"
      },
      "execution_count": 2,
      "outputs": [
        {
          "output_type": "stream",
          "name": "stdout",
          "text": [
            "71\n"
          ]
        },
        {
          "output_type": "execute_result",
          "data": {
            "text/plain": [
              "'0b1000111'"
            ],
            "application/vnd.google.colaboratory.intrinsic+json": {
              "type": "string"
            }
          },
          "metadata": {},
          "execution_count": 2
        }
      ]
    },
    {
      "cell_type": "markdown",
      "source": [
        "18 * 5 = 90\n",
        "\n",
        "in binary form, we are calculating 10010 *  101, which equals to\n",
        "\n",
        "2^2 * (2^4 * 1 + 2^1 * 1) + 2^0 * (2^4 * 1 + 2^1 * 1) = 1011010(base-2) = 90(base-10)"
      ],
      "metadata": {
        "id": "BNG7mMi6-hDg"
      }
    },
    {
      "cell_type": "code",
      "source": [
        "a = 2**2 * (2**4 * 1 + 2**1 * 1) + 2**0 * (2**4 * 1 + 2**1 * 1)\n",
        "print(a)\n",
        "bin(a)"
      ],
      "metadata": {
        "colab": {
          "base_uri": "https://localhost:8080/",
          "height": 53
        },
        "id": "Cte1ItTIBmfp",
        "outputId": "337b96c0-7806-42d2-dd25-696d87acc5e5"
      },
      "execution_count": 3,
      "outputs": [
        {
          "output_type": "stream",
          "name": "stdout",
          "text": [
            "90\n"
          ]
        },
        {
          "output_type": "execute_result",
          "data": {
            "text/plain": [
              "'0b1011010'"
            ],
            "application/vnd.google.colaboratory.intrinsic+json": {
              "type": "string"
            }
          },
          "metadata": {},
          "execution_count": 3
        }
      ]
    },
    {
      "cell_type": "markdown",
      "source": [
        "The reason computer is more familiar with binary number is that they can use AND, OR, NOT to represent 0 and 1 to do fast calculation."
      ],
      "metadata": {
        "id": "5wRnXpR2CZ3S"
      }
    },
    {
      "cell_type": "markdown",
      "source": [
        "# 9.2 Floating Point Numbers"
      ],
      "metadata": {
        "id": "S46klhWzDFv-"
      }
    },
    {
      "cell_type": "markdown",
      "source": [
        "The number of bits is usually fixed for any given computer, and it sometimes won't meet our requirement for calcultion, that's when we use floating point number.\n",
        "\n",
        "Floating point numers(float for short) is a kind of number that separate bits into three parts: the sign indicator(+ or -), the  characteristic or exponent (e, which is the power of 2), and the fraction ( 𝑓, which is the coefficient of the exponent)."
      ],
      "metadata": {
        "id": "n8FymJ5XDMbV"
      }
    },
    {
      "cell_type": "code",
      "source": [
        "import sys\n",
        "sys.float_info"
      ],
      "metadata": {
        "colab": {
          "base_uri": "https://localhost:8080/"
        },
        "id": "40kKCr7AFjMs",
        "outputId": "f459febb-6fb6-4b63-d84e-d587fedcd12f"
      },
      "execution_count": 4,
      "outputs": [
        {
          "output_type": "execute_result",
          "data": {
            "text/plain": [
              "sys.float_info(max=1.7976931348623157e+308, max_exp=1024, max_10_exp=308, min=2.2250738585072014e-308, min_exp=-1021, min_10_exp=-307, dig=15, mant_dig=53, epsilon=2.220446049250313e-16, radix=2, rounds=1)"
            ]
          },
          "metadata": {},
          "execution_count": 4
        }
      ]
    },
    {
      "cell_type": "markdown",
      "source": [
        "To show this more clearly, a float n = (-1)^s*2^(e-1023)*(1-f), where\n",
        "\n",
        "s = the first bit\n",
        "\n",
        "e = the following 11 bit\n",
        "\n",
        "f = the last 52 bits\n",
        "\n",
        "for example:\n",
        "the number 0 10000000010 1000000000000000000000000000000000000000000000000000 (IEEE754) can be read as:\n",
        "\n",
        "s = 0, so (-1)^0 = 1 and the sign is positive\n",
        "\n",
        "e = 10000000010, so 2^(e-1023) = 2^3 = 8\n",
        "\n",
        "f = 1000000000000000000000000000000000000000000000000000, so 1*1/2+0*1/2^2+...=0.5\n",
        "\n",
        "therefore n = (-1)^0 * 8 * 1.5 = 12(base-10)\n",
        "\n",
        "From the calculation, we can see that the difference between a number and it's neighbor will be one bit, which we call a gap"
      ],
      "metadata": {
        "id": "rm515hpAIBtm"
      }
    },
    {
      "cell_type": "code",
      "source": [
        "import numpy as np\n",
        "a = np.spacing(1e10)\n",
        "print(a)\n",
        "1e10 == (1e10 + a/2)"
      ],
      "metadata": {
        "colab": {
          "base_uri": "https://localhost:8080/"
        },
        "id": "mltURqJBK6C4",
        "outputId": "847996cc-e37b-4d98-cfab-62a1a5d5ea1f"
      },
      "execution_count": 5,
      "outputs": [
        {
          "output_type": "stream",
          "name": "stdout",
          "text": [
            "1.9073486328125e-06\n"
          ]
        },
        {
          "output_type": "execute_result",
          "data": {
            "text/plain": [
              "True"
            ]
          },
          "metadata": {},
          "execution_count": 5
        }
      ]
    },
    {
      "cell_type": "markdown",
      "source": [
        "The above program shows that computer will round numbers between the smallest gap.\n",
        "\n",
        "For a 64 bit computer, the largest number and the smallest number is defined as the following:\n"
      ],
      "metadata": {
        "id": "s2wPeqjlLrXS"
      }
    },
    {
      "cell_type": "code",
      "source": [
        "largest = (2**(2046-1023))*((1 + sum(0.5**np.arange(1, 53))))\n",
        "print(largest)\n",
        "largest == sys.float_info.max"
      ],
      "metadata": {
        "colab": {
          "base_uri": "https://localhost:8080/"
        },
        "id": "0-lLWccBNG9d",
        "outputId": "541e5639-1d46-46cb-d68d-1f94f4bc8b1c"
      },
      "execution_count": 6,
      "outputs": [
        {
          "output_type": "stream",
          "name": "stdout",
          "text": [
            "1.7976931348623157e+308\n"
          ]
        },
        {
          "output_type": "execute_result",
          "data": {
            "text/plain": [
              "True"
            ]
          },
          "metadata": {},
          "execution_count": 6
        }
      ]
    },
    {
      "cell_type": "code",
      "source": [
        "smallest = (2**(1-1023))*(1+0)\n",
        "print(smallest)\n",
        "smallest == sys.float_info.min"
      ],
      "metadata": {
        "colab": {
          "base_uri": "https://localhost:8080/"
        },
        "id": "PIRpiIGfNUUP",
        "outputId": "8c246bda-e358-4a7f-8dad-1b0b17b5e88b"
      },
      "execution_count": 7,
      "outputs": [
        {
          "output_type": "stream",
          "name": "stdout",
          "text": [
            "2.2250738585072014e-308\n"
          ]
        },
        {
          "output_type": "execute_result",
          "data": {
            "text/plain": [
              "True"
            ]
          },
          "metadata": {},
          "execution_count": 7
        }
      ]
    },
    {
      "cell_type": "markdown",
      "source": [
        "Numbers that are larger than the largest representable floating point number will casue a overflow (and returns inf) while numbers that are smaller than the smallest subnormal number result in underflow (and returns 0)."
      ],
      "metadata": {
        "id": "EMCILevRNl7U"
      }
    },
    {
      "cell_type": "code",
      "source": [
        "sys.float_info.max + sys.float_info.max"
      ],
      "metadata": {
        "colab": {
          "base_uri": "https://localhost:8080/"
        },
        "id": "9PklhliMN85g",
        "outputId": "eac8ceba-c067-4c4b-9b93-0c004fe0af81"
      },
      "execution_count": 8,
      "outputs": [
        {
          "output_type": "execute_result",
          "data": {
            "text/plain": [
              "inf"
            ]
          },
          "metadata": {},
          "execution_count": 8
        }
      ]
    },
    {
      "cell_type": "code",
      "source": [
        "sys.float_info.min * sys.float_info.min == 2**(-1100) == 0 #which both should equals to zero"
      ],
      "metadata": {
        "colab": {
          "base_uri": "https://localhost:8080/"
        },
        "id": "VKiX-b5IOTej",
        "outputId": "dbcd7943-b21b-4fa1-ce4a-5135ce8c0b5c"
      },
      "execution_count": 9,
      "outputs": [
        {
          "output_type": "execute_result",
          "data": {
            "text/plain": [
              "True"
            ]
          },
          "metadata": {},
          "execution_count": 9
        }
      ]
    },
    {
      "cell_type": "markdown",
      "source": [
        "# 9.3 Round-off Errors"
      ],
      "metadata": {
        "id": "A2oCvNJiOuEm"
      }
    },
    {
      "cell_type": "markdown",
      "source": [
        "Round-off error happens because float stores a equation that is very close to the actual number instead of the precise number."
      ],
      "metadata": {
        "id": "zLdXmcahELrc"
      }
    },
    {
      "cell_type": "code",
      "source": [
        "4.9 - 3.845 == 1.055 #This only happens in some numbers, I tried 5.2-3.845 == 1.355 and it returned true"
      ],
      "metadata": {
        "colab": {
          "base_uri": "https://localhost:8080/"
        },
        "id": "lnJbP_FXFQPf",
        "outputId": "db66970a-b035-4236-e8f2-b316e02a846e"
      },
      "execution_count": 10,
      "outputs": [
        {
          "output_type": "execute_result",
          "data": {
            "text/plain": [
              "False"
            ]
          },
          "metadata": {},
          "execution_count": 10
        }
      ]
    },
    {
      "cell_type": "code",
      "source": [
        "4.9 - 3.845"
      ],
      "metadata": {
        "colab": {
          "base_uri": "https://localhost:8080/"
        },
        "id": "1Q9auhkGGBZS",
        "outputId": "6de07b0c-4ddc-4fea-9a05-2d2626c009da"
      },
      "execution_count": 11,
      "outputs": [
        {
          "output_type": "execute_result",
          "data": {
            "text/plain": [
              "1.0550000000000002"
            ]
          },
          "metadata": {},
          "execution_count": 11
        }
      ]
    },
    {
      "cell_type": "markdown",
      "source": [
        "This problem may be avoid by using the command round() which allows computer to round the number in a certain precision. This could work since the difference between the float and the actuall number is so small that we can round the last few digits to make them the same."
      ],
      "metadata": {
        "id": "tIZR6VwvGMti"
      }
    },
    {
      "cell_type": "code",
      "source": [
        "round(4.9 - 3.845,6) == 1.055"
      ],
      "metadata": {
        "colab": {
          "base_uri": "https://localhost:8080/"
        },
        "id": "n_a8M0z0GvKs",
        "outputId": "cc91ed5e-1ec9-407c-f121-13a41812ade0"
      },
      "execution_count": 12,
      "outputs": [
        {
          "output_type": "execute_result",
          "data": {
            "text/plain": [
              "True"
            ]
          },
          "metadata": {},
          "execution_count": 12
        }
      ]
    },
    {
      "cell_type": "markdown",
      "source": [
        "When doing a sequence of calculation, the round-off error, the error may accumulate and casue a big issue."
      ],
      "metadata": {
        "id": "AJlxZPy9G-rI"
      }
    },
    {
      "cell_type": "code",
      "source": [
        "def add_and_sub(times):\n",
        "  result = 3\n",
        "\n",
        "  for i in range(times):\n",
        "    result += 1/7\n",
        "\n",
        "  for i in range(times):\n",
        "    result -= 1/7\n",
        "\n",
        "  return result"
      ],
      "metadata": {
        "id": "GV_NEGo5HdOu"
      },
      "execution_count": 13,
      "outputs": []
    },
    {
      "cell_type": "code",
      "source": [
        "add_and_sub(1) == 3"
      ],
      "metadata": {
        "colab": {
          "base_uri": "https://localhost:8080/"
        },
        "id": "Ic-EbD-EH3TI",
        "outputId": "35e61730-d1ac-4485-e6b4-3a89df23bcc2"
      },
      "execution_count": 14,
      "outputs": [
        {
          "output_type": "execute_result",
          "data": {
            "text/plain": [
              "True"
            ]
          },
          "metadata": {},
          "execution_count": 14
        }
      ]
    },
    {
      "cell_type": "code",
      "source": [
        "add_and_sub(100)"
      ],
      "metadata": {
        "colab": {
          "base_uri": "https://localhost:8080/"
        },
        "id": "lAV7uCuWH8du",
        "outputId": "4cc5aace-e0e6-4d95-fc8e-78559baed55a"
      },
      "execution_count": 15,
      "outputs": [
        {
          "output_type": "execute_result",
          "data": {
            "text/plain": [
              "3.0000000000000004"
            ]
          },
          "metadata": {},
          "execution_count": 15
        }
      ]
    },
    {
      "cell_type": "code",
      "source": [
        "add_and_sub(10000)"
      ],
      "metadata": {
        "colab": {
          "base_uri": "https://localhost:8080/"
        },
        "id": "D8cTnHTdH_So",
        "outputId": "1f45972f-a4aa-4199-f530-6782865afc03"
      },
      "execution_count": 16,
      "outputs": [
        {
          "output_type": "execute_result",
          "data": {
            "text/plain": [
              "3.0000000000001035"
            ]
          },
          "metadata": {},
          "execution_count": 16
        }
      ]
    }
  ]
}