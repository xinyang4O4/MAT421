{
  "nbformat": 4,
  "nbformat_minor": 0,
  "metadata": {
    "colab": {
      "provenance": [],
      "authorship_tag": "ABX9TyNTt/PLJ6Q2Y8qsS8Fns3Zn",
      "include_colab_link": true
    },
    "kernelspec": {
      "name": "python3",
      "display_name": "Python 3"
    },
    "language_info": {
      "name": "python"
    }
  },
  "cells": [
    {
      "cell_type": "markdown",
      "metadata": {
        "id": "view-in-github",
        "colab_type": "text"
      },
      "source": [
        "<a href=\"https://colab.research.google.com/github/xinyang4O4/MAT421/blob/main/ModuleA.ipynb\" target=\"_parent\"><img src=\"https://colab.research.google.com/assets/colab-badge.svg\" alt=\"Open In Colab\"/></a>"
      ]
    },
    {
      "cell_type": "markdown",
      "source": [
        "# 9.1 Base-N and Binary"
      ],
      "metadata": {
        "id": "z-zvzdkK3XUT"
      }
    },
    {
      "cell_type": "markdown",
      "source": [
        "Base N is a kind of way to denote numbers such that it carries to the next digit with count of every N numbers.\n",
        "\n",
        "Usually, people use base-10 numbers, which we called decimal numbers in our daily life; while computers use base-2 numbers, which we call them binary numbers.\n",
        "\n",
        "To convert between different base (for example from decimal to binary), we can do:\n",
        "\n",
        "21(base-10) = 2 * 10^1 + 1 * 1^0 = 1 * 2^4 + 1 * 2^2 + 1 * 2^0 = 10101(base-2)\n",
        "\n",
        "In python, we can always use command bin(n) to turn the decimal form number n into binary form"
      ],
      "metadata": {
        "id": "lkijPqAbDkIX"
      }
    },
    {
      "cell_type": "code",
      "source": [
        "bin(21)"
      ],
      "metadata": {
        "id": "nt7qRNG1EFOn",
        "outputId": "a8113f30-9437-4365-df33-047ad26d4d96",
        "colab": {
          "base_uri": "https://localhost:8080/",
          "height": 35
        }
      },
      "execution_count": 1,
      "outputs": [
        {
          "output_type": "execute_result",
          "data": {
            "text/plain": [
              "'0b10101'"
            ],
            "application/vnd.google.colaboratory.intrinsic+json": {
              "type": "string"
            }
          },
          "metadata": {},
          "execution_count": 1
        }
      ]
    },
    {
      "cell_type": "markdown",
      "source": [
        "We can also do addition and multiplication with base-n numbers, for example, base-2.\n",
        "The addition in binary is the same as what we do in base-10.\n",
        "\n",
        "43 + 28 = 71\n",
        "\n",
        "in binary form, we are calculating 101011+11100, which equals to\n",
        "\n",
        "2^5 * 1 + 2^4 * 1+2^3 * (1+1) + 2^2 * 1 + 2^1 * 1 + 2^0 * 1 = 1000111(base-2) = 71(base-10)"
      ],
      "metadata": {
        "id": "A9eU4Nl76voT"
      }
    },
    {
      "cell_type": "code",
      "source": [
        "a = 2**5 * 1 + 2**4 * 1+2**3 * (1+1) + 2**2 * 1 + 2**1 * 1 + 2**0 * 1\n",
        "print(a)\n",
        "bin(a)"
      ],
      "metadata": {
        "colab": {
          "base_uri": "https://localhost:8080/",
          "height": 53
        },
        "id": "r-kA1lqF9djP",
        "outputId": "fb3fc684-52fb-4430-bf7e-b6b002b5c706"
      },
      "execution_count": 2,
      "outputs": [
        {
          "output_type": "stream",
          "name": "stdout",
          "text": [
            "71\n"
          ]
        },
        {
          "output_type": "execute_result",
          "data": {
            "text/plain": [
              "'0b1000111'"
            ],
            "application/vnd.google.colaboratory.intrinsic+json": {
              "type": "string"
            }
          },
          "metadata": {},
          "execution_count": 2
        }
      ]
    },
    {
      "cell_type": "markdown",
      "source": [
        "18 * 5 = 90\n",
        "\n",
        "in binary form, we are calculating 10010 *  101, which equals to\n",
        "\n",
        "2^2 * (2^4 * 1 + 2^1 * 1) + 2^0 * (2^4 * 1 + 2^1 * 1) = 1011010(base-2) = 90(base-10)"
      ],
      "metadata": {
        "id": "BNG7mMi6-hDg"
      }
    },
    {
      "cell_type": "code",
      "source": [
        "a = 2**2 * (2**4 * 1 + 2**1 * 1) + 2**0 * (2**4 * 1 + 2**1 * 1)\n",
        "print(a)\n",
        "bin(a)"
      ],
      "metadata": {
        "colab": {
          "base_uri": "https://localhost:8080/",
          "height": 53
        },
        "id": "Cte1ItTIBmfp",
        "outputId": "2f68e61a-6cc3-47f3-8557-e7606377351a"
      },
      "execution_count": 3,
      "outputs": [
        {
          "output_type": "stream",
          "name": "stdout",
          "text": [
            "90\n"
          ]
        },
        {
          "output_type": "execute_result",
          "data": {
            "text/plain": [
              "'0b1011010'"
            ],
            "application/vnd.google.colaboratory.intrinsic+json": {
              "type": "string"
            }
          },
          "metadata": {},
          "execution_count": 3
        }
      ]
    },
    {
      "cell_type": "markdown",
      "source": [
        "The reason computer is more familiar with binary number is that they can use AND, OR, NOT to represent 0 and 1 to do fast calculation."
      ],
      "metadata": {
        "id": "5wRnXpR2CZ3S"
      }
    },
    {
      "cell_type": "markdown",
      "source": [
        "# 9.2 Floating Point Numbers"
      ],
      "metadata": {
        "id": "S46klhWzDFv-"
      }
    },
    {
      "cell_type": "markdown",
      "source": [
        "The number of bits is usually fixed for any given computer, and it sometimes won't meet our requirement for calcultion, that's when we use floating point number.\n",
        "\n",
        "Floating point numers(float for short) is a kind of number that separate bits into three parts: the sign indicator(+ or -), the  characteristic or exponent (e, which is the power of 2), and the fraction ( 𝑓, which is the coefficient of the exponent)."
      ],
      "metadata": {
        "id": "n8FymJ5XDMbV"
      }
    },
    {
      "cell_type": "code",
      "source": [
        "import sys\n",
        "sys.float_info"
      ],
      "metadata": {
        "colab": {
          "base_uri": "https://localhost:8080/"
        },
        "id": "40kKCr7AFjMs",
        "outputId": "47d471f7-5430-470d-fa4a-28c5565b1969"
      },
      "execution_count": 4,
      "outputs": [
        {
          "output_type": "execute_result",
          "data": {
            "text/plain": [
              "sys.float_info(max=1.7976931348623157e+308, max_exp=1024, max_10_exp=308, min=2.2250738585072014e-308, min_exp=-1021, min_10_exp=-307, dig=15, mant_dig=53, epsilon=2.220446049250313e-16, radix=2, rounds=1)"
            ]
          },
          "metadata": {},
          "execution_count": 4
        }
      ]
    },
    {
      "cell_type": "markdown",
      "source": [
        "To show this more clearly, a float n = (-1)^s*2^(e-1023)*(1-f), where\n",
        "\n",
        "s = the first bit\n",
        "\n",
        "e = the following 11 bit\n",
        "\n",
        "f = the last 52 bits\n",
        "\n",
        "for example:\n",
        "the number 0 10000000010 1000000000000000000000000000000000000000000000000000 (IEEE754) can be read as:\n",
        "\n",
        "s = 0, so (-1)^0 = 1 and the sign is positive\n",
        "\n",
        "e = 10000000010, so 2^(e-1023) = 2^3 = 8\n",
        "\n",
        "f = 1000000000000000000000000000000000000000000000000000, so 1*1/2+0*1/2^2+...=0.5\n",
        "\n",
        "therefore n = (-1)^0 * 8 * 1.5 = 12(base-10)\n",
        "\n",
        "From the calculation, we can see that the difference between a number and it's neighbor will be one bit, which we call a gap"
      ],
      "metadata": {
        "id": "rm515hpAIBtm"
      }
    },
    {
      "cell_type": "code",
      "source": [
        "import numpy as np\n",
        "a = np.spacing(1e10)\n",
        "print(a)\n",
        "1e10 == (1e10 + a/2)"
      ],
      "metadata": {
        "colab": {
          "base_uri": "https://localhost:8080/"
        },
        "id": "mltURqJBK6C4",
        "outputId": "00b9279f-4b1f-4da7-f109-d879534ab713"
      },
      "execution_count": 5,
      "outputs": [
        {
          "output_type": "stream",
          "name": "stdout",
          "text": [
            "1.9073486328125e-06\n"
          ]
        },
        {
          "output_type": "execute_result",
          "data": {
            "text/plain": [
              "True"
            ]
          },
          "metadata": {},
          "execution_count": 5
        }
      ]
    },
    {
      "cell_type": "markdown",
      "source": [
        "The above program shows that computer will round numbers between the smallest gap.\n",
        "\n",
        "For a 64 bit computer, the largest number and the smallest number is defined as the following:\n"
      ],
      "metadata": {
        "id": "s2wPeqjlLrXS"
      }
    },
    {
      "cell_type": "code",
      "source": [
        "largest = (2**(2046-1023))*((1 + sum(0.5**np.arange(1, 53))))\n",
        "print(largest)\n",
        "largest == sys.float_info.max"
      ],
      "metadata": {
        "colab": {
          "base_uri": "https://localhost:8080/"
        },
        "id": "0-lLWccBNG9d",
        "outputId": "76f589c5-4828-4439-8d4c-61e12f699d59"
      },
      "execution_count": 6,
      "outputs": [
        {
          "output_type": "stream",
          "name": "stdout",
          "text": [
            "1.7976931348623157e+308\n"
          ]
        },
        {
          "output_type": "execute_result",
          "data": {
            "text/plain": [
              "True"
            ]
          },
          "metadata": {},
          "execution_count": 6
        }
      ]
    },
    {
      "cell_type": "code",
      "source": [
        "smallest = (2**(1-1023))*(1+0)\n",
        "print(smallest)\n",
        "smallest == sys.float_info.min"
      ],
      "metadata": {
        "colab": {
          "base_uri": "https://localhost:8080/"
        },
        "id": "PIRpiIGfNUUP",
        "outputId": "a8fec62a-1f5c-43c5-a635-b6f3ccddbe04"
      },
      "execution_count": 7,
      "outputs": [
        {
          "output_type": "stream",
          "name": "stdout",
          "text": [
            "2.2250738585072014e-308\n"
          ]
        },
        {
          "output_type": "execute_result",
          "data": {
            "text/plain": [
              "True"
            ]
          },
          "metadata": {},
          "execution_count": 7
        }
      ]
    },
    {
      "cell_type": "markdown",
      "source": [
        "Numbers that are larger than the largest representable floating point number will casue a overflow (and returns inf) while numbers that are smaller than the smallest subnormal number result in underflow (and returns 0)."
      ],
      "metadata": {
        "id": "EMCILevRNl7U"
      }
    },
    {
      "cell_type": "code",
      "source": [
        "sys.float_info.max + sys.float_info.max"
      ],
      "metadata": {
        "colab": {
          "base_uri": "https://localhost:8080/"
        },
        "id": "9PklhliMN85g",
        "outputId": "099b28a9-64d6-4fe6-ead3-2f3823cf2128"
      },
      "execution_count": 8,
      "outputs": [
        {
          "output_type": "execute_result",
          "data": {
            "text/plain": [
              "inf"
            ]
          },
          "metadata": {},
          "execution_count": 8
        }
      ]
    },
    {
      "cell_type": "code",
      "source": [
        "sys.float_info.min * sys.float_info.min == 2**(-1100) #which both should equals to zero"
      ],
      "metadata": {
        "colab": {
          "base_uri": "https://localhost:8080/"
        },
        "id": "VKiX-b5IOTej",
        "outputId": "49a30cfb-45e0-4756-d631-a497226bead4"
      },
      "execution_count": 9,
      "outputs": [
        {
          "output_type": "execute_result",
          "data": {
            "text/plain": [
              "True"
            ]
          },
          "metadata": {},
          "execution_count": 9
        }
      ]
    },
    {
      "cell_type": "markdown",
      "source": [
        "# 9.3 Round-off Errors"
      ],
      "metadata": {
        "id": "A2oCvNJiOuEm"
      }
    },
    {
      "cell_type": "markdown",
      "source": [
        "Round-off error happens because float stores a equation that is very close to the actual number instead of the precise number."
      ],
      "metadata": {
        "id": "zLdXmcahELrc"
      }
    },
    {
      "cell_type": "code",
      "source": [
        "4.9 - 3.845 == 1.055 #This only happens in some numbers, I tried 5.2-3.845 == 1.355 and it returned true"
      ],
      "metadata": {
        "colab": {
          "base_uri": "https://localhost:8080/"
        },
        "id": "lnJbP_FXFQPf",
        "outputId": "3c8b9dd4-1768-4851-caca-8197fdbff1dc"
      },
      "execution_count": 10,
      "outputs": [
        {
          "output_type": "execute_result",
          "data": {
            "text/plain": [
              "False"
            ]
          },
          "metadata": {},
          "execution_count": 10
        }
      ]
    },
    {
      "cell_type": "code",
      "source": [
        "4.9 - 3.845"
      ],
      "metadata": {
        "colab": {
          "base_uri": "https://localhost:8080/"
        },
        "id": "1Q9auhkGGBZS",
        "outputId": "d70829c5-6928-49b2-ab53-7ef1fdd2b23e"
      },
      "execution_count": 11,
      "outputs": [
        {
          "output_type": "execute_result",
          "data": {
            "text/plain": [
              "1.0550000000000002"
            ]
          },
          "metadata": {},
          "execution_count": 11
        }
      ]
    },
    {
      "cell_type": "markdown",
      "source": [
        "This problem may be avoid by using the command round() which allows people to round the number in a certain precision. This could work since the difference between the float and the actuall number is so small that we can round the last few digits to make them the same."
      ],
      "metadata": {
        "id": "tIZR6VwvGMti"
      }
    },
    {
      "cell_type": "code",
      "source": [
        "round(4.9 - 3.845,6) == 1.055"
      ],
      "metadata": {
        "colab": {
          "base_uri": "https://localhost:8080/"
        },
        "id": "n_a8M0z0GvKs",
        "outputId": "da3124db-f228-4db4-ab46-18ad2d37ea57"
      },
      "execution_count": 12,
      "outputs": [
        {
          "output_type": "execute_result",
          "data": {
            "text/plain": [
              "True"
            ]
          },
          "metadata": {},
          "execution_count": 12
        }
      ]
    },
    {
      "cell_type": "markdown",
      "source": [
        "When doing a sequence of calculation, the round-off error, the error may accumulate and casue a big issue."
      ],
      "metadata": {
        "id": "AJlxZPy9G-rI"
      }
    },
    {
      "cell_type": "code",
      "source": [
        "def add_and_sub(times):\n",
        "  result = 3\n",
        "\n",
        "  for i in range(times):\n",
        "    result += 1/6\n",
        "\n",
        "  for i in range(times):\n",
        "    result -= 1/6\n",
        "\n",
        "  return result"
      ],
      "metadata": {
        "id": "GV_NEGo5HdOu"
      },
      "execution_count": 13,
      "outputs": []
    },
    {
      "cell_type": "code",
      "source": [
        "add_and_sub(1) == 3"
      ],
      "metadata": {
        "colab": {
          "base_uri": "https://localhost:8080/"
        },
        "id": "Ic-EbD-EH3TI",
        "outputId": "436bba26-843f-4fb1-f470-0493143444e5"
      },
      "execution_count": 14,
      "outputs": [
        {
          "output_type": "execute_result",
          "data": {
            "text/plain": [
              "True"
            ]
          },
          "metadata": {},
          "execution_count": 14
        }
      ]
    },
    {
      "cell_type": "code",
      "source": [
        "add_and_sub(100)"
      ],
      "metadata": {
        "colab": {
          "base_uri": "https://localhost:8080/"
        },
        "id": "lAV7uCuWH8du",
        "outputId": "49a0188b-3c6a-41ff-a5e3-e24d5401559d"
      },
      "execution_count": 15,
      "outputs": [
        {
          "output_type": "execute_result",
          "data": {
            "text/plain": [
              "2.9999999999999996"
            ]
          },
          "metadata": {},
          "execution_count": 15
        }
      ]
    },
    {
      "cell_type": "code",
      "source": [
        "add_and_sub(10000)"
      ],
      "metadata": {
        "colab": {
          "base_uri": "https://localhost:8080/"
        },
        "id": "D8cTnHTdH_So",
        "outputId": "45b10c4f-f231-48be-ed13-4cc970aa2d0d"
      },
      "execution_count": 16,
      "outputs": [
        {
          "output_type": "execute_result",
          "data": {
            "text/plain": [
              "3.0000000000000577"
            ]
          },
          "metadata": {},
          "execution_count": 16
        }
      ]
    }
  ]
}