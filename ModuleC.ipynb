{
  "nbformat": 4,
  "nbformat_minor": 0,
  "metadata": {
    "colab": {
      "provenance": [],
      "authorship_tag": "ABX9TyOlNNsYsMxCTdUurmkavwHa",
      "include_colab_link": true
    },
    "kernelspec": {
      "name": "python3",
      "display_name": "Python 3"
    },
    "language_info": {
      "name": "python"
    }
  },
  "cells": [
    {
      "cell_type": "markdown",
      "metadata": {
        "id": "view-in-github",
        "colab_type": "text"
      },
      "source": [
        "<a href=\"https://colab.research.google.com/github/xinyang4O4/MAT421/blob/main/ModuleC.ipynb\" target=\"_parent\"><img src=\"https://colab.research.google.com/assets/colab-badge.svg\" alt=\"Open In Colab\"/></a>"
      ]
    },
    {
      "cell_type": "markdown",
      "source": [
        "# 19.1 Root Finding Problem Statement"
      ],
      "metadata": {
        "id": "ujxmPFWAqu1y"
      }
    },
    {
      "cell_type": "markdown",
      "source": [
        "The root (zero) of a function, f(x), is an $x_r$ such that $f(x_r)$ = 0.\n",
        "\n",
        "Finding root for a function f sometimes could be hard, so instead we can find numerical approximation."
      ],
      "metadata": {
        "id": "NvyMSlMDX1I1"
      }
    },
    {
      "cell_type": "code",
      "source": [
        "#solve for a root of f(x) = cos(x)-x near 1\n",
        "import numpy as np\n",
        "from scipy import optimize\n",
        "\n",
        "f = lambda x: np.cos(x)-x\n",
        "r = optimize.fsolve(f, 1)\n",
        "print(\"r =\", r)\n",
        "\n",
        "# Verify the solution is a root\n",
        "result = f(r) #involves a floating point division, so the answer will be 0. which is the same as 0.0\n",
        "print(\"result=\", result)"
      ],
      "metadata": {
        "colab": {
          "base_uri": "https://localhost:8080/"
        },
        "id": "8obsYikgYJi1",
        "outputId": "b17026ff-e3eb-4a85-82c4-46eb4f29f033"
      },
      "execution_count": null,
      "outputs": [
        {
          "output_type": "stream",
          "name": "stdout",
          "text": [
            "r = [0.73908513]\n",
            "result= [0.]\n"
          ]
        }
      ]
    },
    {
      "cell_type": "code",
      "source": [
        "#solve for a root of f(x) = 1/x which does not exitst\n",
        "f = lambda x: 1/x\n",
        "\n",
        "r, infodict, ier, mesg = optimize.fsolve(f, 3, full_output=True)\n",
        "print(\"r =\", r)\n",
        "\n",
        "result = f(r)\n",
        "print(\"result=\", result)\n",
        "\n",
        "print(mesg) #This message will return that no root is found"
      ],
      "metadata": {
        "colab": {
          "base_uri": "https://localhost:8080/"
        },
        "id": "0xqQQQXsbMQr",
        "outputId": "43178481-4f64-4d76-f168-c62cdcc7fe8f"
      },
      "execution_count": null,
      "outputs": [
        {
          "output_type": "stream",
          "name": "stdout",
          "text": [
            "r = [5.28071045e+83]\n",
            "result= [1.89368459e-84]\n",
            "The number of calls to function has reached maxfev = 400.\n"
          ]
        }
      ]
    },
    {
      "cell_type": "markdown",
      "source": [
        "# 19.2 Tolerance"
      ],
      "metadata": {
        "id": "e9QNgqwub0kO"
      }
    },
    {
      "cell_type": "markdown",
      "source": [
        "Tolerance is the level of error that is acceptable for an engineering application, and when the comuter finds a solution that has error smaller than the tolerance, we say that it has converged to a solution."
      ],
      "metadata": {
        "id": "IKpIkKkhb59m"
      }
    },
    {
      "cell_type": "code",
      "source": [
        "tol = 1e-10\n",
        "f = lambda x: x**2 +tol/2\n",
        "\n",
        "#calculates the error when input error is less than tol\n",
        "r, infodict, ier, mesg = optimize.fsolve(f, 3, full_output=True)\n",
        "error = f(r)\n",
        "print(\"error = \", error)\n",
        "\n",
        "yzero = f(0)\n",
        "print(\"f(0) = \", yzero)"
      ],
      "metadata": {
        "colab": {
          "base_uri": "https://localhost:8080/"
        },
        "id": "m0S_BmODxPLB",
        "outputId": "a6c7ce29-613b-4e3a-bd85-63e5d672e1d8"
      },
      "execution_count": null,
      "outputs": [
        {
          "output_type": "stream",
          "name": "stdout",
          "text": [
            "error= [5.03815109e-11]\n",
            "f(0) 5e-11\n"
          ]
        }
      ]
    },
    {
      "cell_type": "code",
      "source": [
        "tol = 1e-10\n",
        "f = lambda x: x**2+tol/2\n",
        "\n",
        "#calculates the error when input error is less than tol\n",
        "xi = -tol/4\n",
        "xj = tol/4\n",
        "e = tol/2\n",
        "result = (f(xj)-f(xi))/2\n",
        "print(\"result = \", result)\n",
        "print(\"e = \", e)"
      ],
      "metadata": {
        "colab": {
          "base_uri": "https://localhost:8080/"
        },
        "id": "FnkiqL2uzJUa",
        "outputId": "de4f50bd-2af9-43e7-e7a3-542c98c2dee5"
      },
      "execution_count": null,
      "outputs": [
        {
          "output_type": "stream",
          "name": "stdout",
          "text": [
            "result =  0.0\n",
            "e =  5e-11\n"
          ]
        }
      ]
    },
    {
      "cell_type": "markdown",
      "source": [
        "# 19.3 Bisection Method"
      ],
      "metadata": {
        "id": "ypd4mK932l9E"
      }
    },
    {
      "cell_type": "markdown",
      "source": [
        "The intermediate Value Theorem says that for a continuous function f such that $sign(f(a)) \\neq sign(f(b))$ there must exists c between a and b and f(c) = 0.\n",
        "\n",
        "The bisection method uses the intermediate value theorem iteratively to find roots. It basiclly determains the zero by letting m recursively close to 0 such that f(m) < tolerance"
      ],
      "metadata": {
        "id": "Sjii0dOT2wih"
      }
    },
    {
      "cell_type": "code",
      "source": [
        "import numpy as np\n",
        "\n",
        "def my_bisection(f, a, b, tol):\n",
        "    # approximates a root, R, of f bounded\n",
        "    # by a and b to within tolerance\n",
        "    # | f(m) | < tol with m the midpoint\n",
        "    # between a and b Recursive implementation\n",
        "\n",
        "    # check if a and b bound a root\n",
        "    if np.sign(f(a)) == np.sign(f(b)):\n",
        "        raise Exception(\n",
        "         \"The scalars a and b do not bound a root\")\n",
        "\n",
        "    # get midpoint\n",
        "    m = (a + b)/2\n",
        "\n",
        "    if np.abs(f(m)) < tol:\n",
        "        # stopping condition, report m as root\n",
        "        return m\n",
        "    elif np.sign(f(a)) == np.sign(f(m)):\n",
        "        # case where m is an improvement on a.\n",
        "        # Make recursive call with a = m\n",
        "        return my_bisection(f, m, b, tol)\n",
        "    elif np.sign(f(b)) == np.sign(f(m)):\n",
        "        # case where m is an improvement on b.\n",
        "        # Make recursive call with b = m\n",
        "        return my_bisection(f, a, m, tol)"
      ],
      "metadata": {
        "id": "-pgLnsZC5Hsn"
      },
      "execution_count": null,
      "outputs": []
    },
    {
      "cell_type": "code",
      "source": [
        "f = lambda x: x**2 - 2\n",
        "\n",
        "r1 = my_bisection(f, 0, 2, 0.1)\n",
        "print(\"r1 =\", r1)\n",
        "r01 = my_bisection(f, 0, 2, 0.01)\n",
        "print(\"r01 =\", r01)\n",
        "\n",
        "print(\"f(r1) =\", f(r1))\n",
        "print(\"f(r01) =\", f(r01))"
      ],
      "metadata": {
        "colab": {
          "base_uri": "https://localhost:8080/"
        },
        "id": "YbwGdLDk5wfa",
        "outputId": "e5233f93-523f-4443-9525-21e856fa3618"
      },
      "execution_count": null,
      "outputs": [
        {
          "output_type": "stream",
          "name": "stdout",
          "text": [
            "r1 = 1.4375\n",
            "r01 = 1.4140625\n",
            "f(r1) = 0.06640625\n",
            "f(r01) = -0.00042724609375\n"
          ]
        }
      ]
    },
    {
      "cell_type": "markdown",
      "source": [
        "We can tell that the less the tolerance is, the closer the answer is to zero. (It will only work if a and b bound a root)"
      ],
      "metadata": {
        "id": "gLynLU0K5_D5"
      }
    },
    {
      "cell_type": "markdown",
      "source": [
        "# 19.4 Newton-Raphson Method"
      ],
      "metadata": {
        "id": "8OyKvXfy6YSu"
      }
    },
    {
      "cell_type": "markdown",
      "source": [
        "The Newton-Raphson method is another way to find the root. We first randomly pick a $x_0$, then determain the approximation $x_n=x_{n-1}−\\frac{f(x_{n-1})}{f'(x_{n-1})}$\n",
        "\n",
        "The case that this method won't work so well is that when the derivative of the result is complicate. Another case would be for the choice of the approximation."
      ],
      "metadata": {
        "id": "SxlMbg-s7olq"
      }
    },
    {
      "cell_type": "code",
      "source": [
        "def my_newton(f, df, x0, tol):\n",
        "    # output is an estimation of the root of f\n",
        "    # using the Newton Raphson method\n",
        "    # recursive implementation\n",
        "    if abs(f(x0)) < tol:\n",
        "        return x0\n",
        "    else:\n",
        "        return my_newton(f, df, x0 - f(x0)/df(x0), tol)\n"
      ],
      "metadata": {
        "id": "505N02879K_G"
      },
      "execution_count": null,
      "outputs": []
    },
    {
      "cell_type": "code",
      "source": [
        "import numpy as np\n",
        "\n",
        "f = lambda x: x**2 - 4\n",
        "f_prime = lambda x: 2*x\n",
        "\n",
        "estimate = my_newton(f, f_prime, 5, 1e-6)\n",
        "print(\"estimate =\", estimate)\n",
        "print(\"result =\", 2)"
      ],
      "metadata": {
        "colab": {
          "base_uri": "https://localhost:8080/"
        },
        "id": "7nnUhnHk9Ne7",
        "outputId": "f58857b7-f44c-4a57-e1a5-a51621102b46"
      },
      "execution_count": null,
      "outputs": [
        {
          "output_type": "stream",
          "name": "stdout",
          "text": [
            "estimate = 2.000000000006711\n",
            "result = 2\n"
          ]
        }
      ]
    },
    {
      "cell_type": "markdown",
      "source": [
        "The result is really close to the real root and it's faster to compile than the Bisection Method"
      ],
      "metadata": {
        "id": "gIpJ2GFT-Qwx"
      }
    },
    {
      "cell_type": "markdown",
      "source": [
        "# 19.5 Root Finding in Python"
      ],
      "metadata": {
        "id": "r2H7fOk6-fYg"
      }
    },
    {
      "cell_type": "markdown",
      "source": [
        "In python, we can always use the f_solve method from the scipy.optimize directly."
      ],
      "metadata": {
        "id": "MqVLQJ0l-h5H"
      }
    },
    {
      "cell_type": "code",
      "source": [
        "from scipy.optimize import fsolve\n",
        "\n",
        "f = lambda x: 5*x**4+x**3-6*x**2-3*x+2\n",
        "fsolve(f, [1,100])"
      ],
      "metadata": {
        "colab": {
          "base_uri": "https://localhost:8080/"
        },
        "id": "9MEwD6Zm_Mip",
        "outputId": "d70a4ca3-9878-4895-f227-7c81587ddc88"
      },
      "execution_count": null,
      "outputs": [
        {
          "output_type": "execute_result",
          "data": {
            "text/plain": [
              "array([1.09232514, 1.09338332])"
            ]
          },
          "metadata": {},
          "execution_count": 47
        }
      ]
    },
    {
      "cell_type": "markdown",
      "source": [
        "Then we know that the two roots are 1.09232514 and 1.09338332"
      ],
      "metadata": {
        "id": "DsBxP8Hl_l_T"
      }
    }
  ]
}