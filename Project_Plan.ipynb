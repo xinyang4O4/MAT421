{
  "nbformat": 4,
  "nbformat_minor": 0,
  "metadata": {
    "colab": {
      "provenance": [],
      "authorship_tag": "ABX9TyNXRaYkbYgQifwk0pYhXLH8",
      "include_colab_link": true
    },
    "kernelspec": {
      "name": "python3",
      "display_name": "Python 3"
    },
    "language_info": {
      "name": "python"
    }
  },
  "cells": [
    {
      "cell_type": "markdown",
      "metadata": {
        "id": "view-in-github",
        "colab_type": "text"
      },
      "source": [
        "<a href=\"https://colab.research.google.com/github/xinyang4O4/MAT421/blob/main/Project_Plan.ipynb\" target=\"_parent\"><img src=\"https://colab.research.google.com/assets/colab-badge.svg\" alt=\"Open In Colab\"/></a>"
      ]
    },
    {
      "cell_type": "markdown",
      "source": [
        "# Abalone Sex Prediction With Linear Regression"
      ],
      "metadata": {
        "id": "IVUQz0AqyOt1"
      }
    },
    {
      "cell_type": "markdown",
      "source": [
        "1. Introduction to the problem\n",
        "\n",
        "  Abalone is a kind of snail that lives in the ocean. It is famous for its delicious taste and rich nutrition. It is an indispensable delicacy in the seafood combo and there is a huge demand for abalone in the market. For the sustainable development of abalone, it is an important task to quickly distinguish the sex and maturity of abalone. Fishing for juveniles is not sustainable, and the nutritional value of female abalone is higher than that of males.\n",
        "\n",
        "  So in the reasearch project, I am planing to set up a linear regression model to distinguish the sex of abalone.\n"
      ],
      "metadata": {
        "id": "LzKHHkIBLPGS"
      }
    },
    {
      "cell_type": "markdown",
      "source": [
        "2. Related work\n",
        "\n",
        "  The Dataset Abalone, posted on UC Irvine Machine Learning Repository in 1995, is a tabular dataset including values of abalones in many different perspectives such as sex, length, diameter, etc. The auther pointed out this dataset could be used to make a module to approximate the age of abalone which could be inveatigated by counting the rings of the abalone, which is a lengthy process. There are already many people have done this project and estabilished multiple models.\n",
        "\n",
        "  As the demand for abalone is high, people tend to focus on if the abalone fishing is sustainable, in this case, if we are leaving enough infant for recultivation and the if the male-female ratio is within a reasonable range. An artical published Hshan.T had done some related research by modeling with R language.\n"
      ],
      "metadata": {
        "id": "7zyf_uyAOqVC"
      }
    },
    {
      "cell_type": "markdown",
      "source": [
        "3. Proposed methodology/ models\n",
        "\n",
        "  In this project, I'm planing to use Linear Regression model coded by python. Specifically, the Simple Linear Regression model.\n"
      ],
      "metadata": {
        "id": "DB_qbI_tOr4t"
      }
    },
    {
      "cell_type": "markdown",
      "source": [
        "4. Experiment setups\n",
        "\n",
        "  For the experiment setup, I want to first sort data using pandas, then arrange the mean value of length, diameter, height, and whole weight of each sex to see if that is a factor that could show the difference, if not, I will further investigate shucked weight, viscra weight and shell weight.\n",
        "\n",
        "  After defined useful data, I will create a linear regression model using it. The first step is to split the data into testing groups and training groups. Train the model with the training group and test the model using testing group, give the prediction of the testing group and compare it with the actural data listed in the dataset. Last, calculate the error too see if the model is accurate."
      ],
      "metadata": {
        "id": "ifO1fImLOtUe"
      }
    },
    {
      "cell_type": "markdown",
      "source": [
        "5. Expected results\n",
        "\n",
        "  The expected result would be at least 80% correct on the sex with the Mean Squared error of testing model is less than 5 and The R2 score of testing is less than 0.7, or the testing score is in the range of the training score plus or minus 0.5 and 0.05."
      ],
      "metadata": {
        "id": "tvxNAQ5_OuTP"
      }
    },
    {
      "cell_type": "markdown",
      "source": [
        "Resources:\n",
        "\n",
        "  Hshan.T. (2022b, March 30). Abalone Sustainability and Profitability — Sex Classification and Weights Prediction via Physical Measurements on R | by Hshan.T | Feb, 2021 | Medium | The Startup. Medium. https://medium.com/swlh/abalone-sex-classification-via-physical-measurements-r-3b72526d5326\n",
        "\n",
        "  UCI Machine Learning Repository. (n.d.-b). https://archive.ics.uci.edu/dataset/1/abalone\n",
        "\n"
      ],
      "metadata": {
        "id": "SqJ-ty21Q32I"
      }
    }
  ]
}