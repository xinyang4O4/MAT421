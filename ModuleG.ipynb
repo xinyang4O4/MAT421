{
  "nbformat": 4,
  "nbformat_minor": 0,
  "metadata": {
    "colab": {
      "provenance": [],
      "authorship_tag": "ABX9TyPIY1ueMhORTzYZZ0pi+wCg",
      "include_colab_link": true
    },
    "kernelspec": {
      "name": "python3",
      "display_name": "Python 3"
    },
    "language_info": {
      "name": "python"
    }
  },
  "cells": [
    {
      "cell_type": "markdown",
      "metadata": {
        "id": "view-in-github",
        "colab_type": "text"
      },
      "source": [
        "<a href=\"https://colab.research.google.com/github/xinyang4O4/MAT421/blob/main/ModuleG.ipynb\" target=\"_parent\"><img src=\"https://colab.research.google.com/assets/colab-badge.svg\" alt=\"Open In Colab\"/></a>"
      ]
    },
    {
      "cell_type": "markdown",
      "source": [
        "# 21.1 Numerical Integration Problem Statement"
      ],
      "metadata": {
        "id": "Hnxtu-o3_TJt"
      }
    },
    {
      "cell_type": "markdown",
      "source": [
        "When approxmating the integral of f(x) over the total interval [a,b], consider it to be a grid with n+1 points with spacing $h=\\frac{b-a}{n}$ and denote each point x by $x_j$ where $x_0$ =a and $x_n$ = b."
      ],
      "metadata": {
        "id": "jznyenc-SHMs"
      }
    },
    {
      "cell_type": "markdown",
      "source": [
        "# 21.2 Riemanns Integral"
      ],
      "metadata": {
        "id": "GSG1Opu8Uz75"
      }
    },
    {
      "cell_type": "markdown",
      "source": [
        "The Riemann Integral approximation is: $\\int_{a}^{b} f(x) dx ≈ \\sum^{n-1}_{i=0}hf(x_i)$ or $\\int_{a}^{b} f(x) dx ≈ \\sum^{n}_{i=1}hf(x_i)$ depending on whether the left ot right endpoint is chosen. The overall accuracy is O(h).\n",
        "\n",
        "Midpoint Rule - takes the rectangle height of the rectangle at each subinterval to be the function value at the midpoint between $x_i$ and $x_{i+1}$. $\\int_{a}^{b} f(x) dx ≈ \\sum^{n-1}_{i=0}hf(\\frac{x_i+x_{i+1}}{2})$, the overall accuracy is O($h^3$)"
      ],
      "metadata": {
        "id": "p1aSsqgOU5S7"
      }
    },
    {
      "cell_type": "code",
      "source": [
        "import numpy as np\n",
        "\n",
        "a = 0\n",
        "b = np.pi\n",
        "n = 11\n",
        "h = (b - a) / (n - 1)\n",
        "x = np.linspace(a, b, n)\n",
        "f = np.sin(x)\n",
        "\n",
        "I_riemannL = h * sum(f[:n-1])\n",
        "err_riemannL = 2 - I_riemannL\n",
        "\n",
        "I_riemannR = h * sum(f[1::])\n",
        "err_riemannR = 2 - I_riemannR\n",
        "\n",
        "I_mid = h * sum(np.sin((x[:n-1] \\\n",
        "        + x[1:])/2))\n",
        "err_mid = 2 - I_mid\n",
        "\n",
        "print('value got by riemanns mehtod (left): ', I_riemannL)\n",
        "print('error of the riemanns method (left): ', err_riemannL)\n",
        "\n",
        "print('value got by riemanns mehtod (right): ', I_riemannR)\n",
        "print('error of the riemanns method (right): ', err_riemannR)\n",
        "\n",
        "print('value got by midpoint mehtod: ', I_mid)\n",
        "print('error of the midpoint method: ', err_mid)"
      ],
      "metadata": {
        "id": "G2zOnLDbaQfu",
        "colab": {
          "base_uri": "https://localhost:8080/"
        },
        "outputId": "6912dcc5-77e3-4578-a2c3-6a3404100a87"
      },
      "execution_count": 3,
      "outputs": [
        {
          "output_type": "stream",
          "name": "stdout",
          "text": [
            "value got by riemanns mehtod (left):  1.9835235375094546\n",
            "error of the riemanns method (left):  0.01647646249054535\n",
            "value got by riemanns mehtod (right):  1.9835235375094546\n",
            "error of the riemanns method (right):  0.01647646249054535\n",
            "value got by midpoint mehtod:  2.0082484079079745\n",
            "error of the midpoint method:  -0.008248407907974542\n"
          ]
        }
      ]
    },
    {
      "cell_type": "markdown",
      "source": [
        "# 21.3 Trapezoid Rule"
      ],
      "metadata": {
        "id": "DwFnqglxd05Q"
      }
    },
    {
      "cell_type": "markdown",
      "source": [
        "The Trapezoid Rule fits a trapezoid into each subinterval and sums the areas of the trapezoid to approximate the total integral. With similar setup as Riemanns integral, $\\int_{a}^{b} f(x) dx ≈ \\sum^{n-1}_{i=0}h\\frac{f(x_i)-f(x_{i+1})}{2}$. The accuracy is is O($h^3$) for a single subinterval and O($h^2$) over the whole interval."
      ],
      "metadata": {
        "id": "eSD3eoxBeZzy"
      }
    },
    {
      "cell_type": "code",
      "source": [
        "import numpy as np\n",
        "\n",
        "a = 0\n",
        "b = np.pi\n",
        "n = 11\n",
        "h = (b - a) / (n - 1)\n",
        "x = np.linspace(a, b, n)\n",
        "f = np.sin(x)\n",
        "\n",
        "I_trap = (h/2)*(f[0] + \\\n",
        "          2 * sum(f[1:n-1]) + f[n-1])\n",
        "err_trap = 2 - I_trap\n",
        "\n",
        "print('value got by trapezoid mehtod: ', I_trap)\n",
        "print('error of the trapezoid method: ', err_trap)"
      ],
      "metadata": {
        "colab": {
          "base_uri": "https://localhost:8080/"
        },
        "id": "9BrOClZMfUUi",
        "outputId": "59fab099-0f3f-4e9f-df87-9ff0ec767d77"
      },
      "execution_count": 5,
      "outputs": [
        {
          "output_type": "stream",
          "name": "stdout",
          "text": [
            "value got by trapezoid mehtod:  1.9835235375094546\n",
            "error of the trapezoid method:  0.01647646249054535\n"
          ]
        }
      ]
    }
  ]
}