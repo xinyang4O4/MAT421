{
  "nbformat": 4,
  "nbformat_minor": 0,
  "metadata": {
    "colab": {
      "provenance": [],
      "authorship_tag": "ABX9TyPDtkiKZ8f2qCC8A5JF0Ed0",
      "include_colab_link": true
    },
    "kernelspec": {
      "name": "python3",
      "display_name": "Python 3"
    },
    "language_info": {
      "name": "python"
    }
  },
  "cells": [
    {
      "cell_type": "markdown",
      "metadata": {
        "id": "view-in-github",
        "colab_type": "text"
      },
      "source": [
        "<a href=\"https://colab.research.google.com/github/xinyang4O4/MAT421/blob/main/ModuleD.ipynb\" target=\"_parent\"><img src=\"https://colab.research.google.com/assets/colab-badge.svg\" alt=\"Open In Colab\"/></a>"
      ]
    },
    {
      "cell_type": "markdown",
      "source": [
        "# 1.1 Introduction"
      ],
      "metadata": {
        "id": "5WbCs5eA4NnQ"
      }
    },
    {
      "cell_type": "markdown",
      "source": [
        "Linear algebra is an important concept in data science and machine learning."
      ],
      "metadata": {
        "id": "cl-wrdNq4XUv"
      }
    },
    {
      "cell_type": "markdown",
      "source": [
        "# 1.2 Elements of Linear Algebra"
      ],
      "metadata": {
        "id": "6lY0IzlI5Je7"
      }
    },
    {
      "cell_type": "markdown",
      "source": [
        "1.2.1 Linear Spaces\n",
        "\n",
        "Linear combination - a new vector constructed from a subset by multiplying each vector by a constant and adding the results.\n",
        "\n",
        "Linear subspace - a result of linear combination. That is, for all $u_1, u_2\\in U$ and $\\alpha \\in \\mathbb{R}$, it holds that $u_1+u_2\\in U$ and $\\alpha u_1 \\in U$."
      ],
      "metadata": {
        "id": "-XoHaGiSnJWH"
      }
    },
    {
      "cell_type": "code",
      "source": [
        "#The code shows an example of linear combination\n",
        "import numpy as np\n",
        "from numpy import arccos, dot\n",
        "v = np.array([5,6,2])\n",
        "w = np.array([7,-1,7])\n",
        "u = np.array([0,2,0])\n",
        "x = 2*v-1*w+3*u\n",
        "print(x)"
      ],
      "metadata": {
        "colab": {
          "base_uri": "https://localhost:8080/"
        },
        "id": "OyTJCxIBnK1O",
        "outputId": "cc1ce5f1-d3e7-4fff-aa6b-6ab3d28fe2c0"
      },
      "execution_count": 1,
      "outputs": [
        {
          "output_type": "stream",
          "name": "stdout",
          "text": [
            "[ 3 19 -3]\n"
          ]
        }
      ]
    },
    {
      "cell_type": "markdown",
      "source": [
        "Span - a span of a set of vectors is a linear subspace.\n",
        "\n",
        "Lemma 1 - Let W = span($w_1, w_2$), then W is a linear subspace.\n",
        "\n",
        "Column space - Let $A\\in \\mathbb{R}^{n*m}$ be a n*m matrix with columns $a_1,...,a_m\\in \\mathbb{R}^n$. The column space of A, denoted col(A), is the span of the columns of A, col(A) = $span(a_1,...,a_m)\\in \\mathbb{R}$\n",
        "\n",
        "Linear independence - a list of vectors $u_1,...,u_m$ is linearly independent if none of them can be written as a linear combination if the others, that is $\\forall i, u_1\\notin span({u_j:j\\neq i})$.\n",
        "\n",
        "Lemma 2 - The vectors $u_1,...,u_m$ are linearly independent if and only if $\\sum^m_{j=0} a_j u_j = 0 \\rightarrow a_j = 0, \\forall j$.\n",
        "\n",
        "Basis - a set of vectors that generates all elements of the vector space and the vectors in the set are linearly independent. Let U be a linear subspace of V. A basis of U is a list of vectors $u_1,...,u_m$ in U that: (1) span U, that is, U = span(u_1,...,u_m); and (2) are linearly independent. Denote by $e_1,...,e_n$ the standard basis of $\\mathbb{R}^n$\n",
        "\n",
        "Dimension Theorem - Let U be a linear subspace of V. Any basis of U always has the same number of elements. All bases of U have the same length, that is, the same number of elements. We call this number the dimension of U and denote it dim(U).\n",
        "\n",
        "Lemma 3 - Let $u_1,...,u_m$ be a linearly dependent list of vectors with linearly independent subset, $u_1,1\\in \\{1,...,k\\}, k < m $. Then there is an $i > k$ such that:\n",
        "\n",
        "1. $u_i \\in span(u_1,...,u_{i-1})$\n",
        "\n",
        "2. $span(\\{u_j : j\\in\\{1,...,m\\}\\}) = span (\\{u_j : j\\in\\{1,...,m\\}, j\\neq i \\})$"
      ],
      "metadata": {
        "id": "EkQcWLOa5LwU"
      }
    },
    {
      "cell_type": "markdown",
      "source": [
        "1.2.2 Orthogonality\n",
        "\n",
        "Norm - $\\left\\lVert u\\right\\rVert = \\sqrt{\\sum^n_iu_i^2}$\n",
        "\n",
        "Inner product - $\\langle u,v\\rangle = u*v=\\sum^n_iu_iv_i$\n",
        "\n",
        "A list of vectors ${u_1,...,u_m}$ is orthonormal if the u_i's are pairwise orthogonal and each has norm 1, that is for all i and all j$\\neq$i, $\\left\\lVert u_i\\right\\rVert = 1$ and $\\langle u_i,u_j\\rangle = 0$\n",
        "\n",
        "Orthonormal Basis Expansion Theorem - Let $q_1,...,q_m$ be an orthonormal basis of U and u $\\in$ U. Then u = $\\sum_{j=1}^m\\langle u,q_j\\rangle q_j$\n",
        "\n",
        "Best Approximation Theorem - Let U $\\subseteq$ V be a linear subspace with orthonormal basis $q_1,...,q_m$ and let $v\\in V$. For any $u\\in U$ $\\left\\lVert v-𝒫_Uv \\right\\rVert \\leq \\left\\lVert v-u\\right\\rVert$."
      ],
      "metadata": {
        "id": "pyO9XB6-fH8m"
      }
    },
    {
      "cell_type": "markdown",
      "source": [
        "1.2.3 Gram-Schmidt Process\n",
        "\n",
        "The Gram-Schmidt algorithm is used to obtain an orthonormal basis.\n",
        "\n",
        "Gram-Schmidt Theorem - Let $a_1,...,a_m$ in $R^n$ be linearly independent. THen there exist an orthonormal basis $q_1,...,q_m$ of span($a_1,...,a_m$)."
      ],
      "metadata": {
        "id": "cVvs_lpeevbb"
      }
    },
    {
      "cell_type": "markdown",
      "source": [
        "1.2.4 Eigenvalues and Eigenvectors\n",
        "\n",
        "Let A $\\in ℝ^{d*d}$ be a square matrix. Then $λ\\in ℝ$ is an eigencalue of A if there exists a nonzero vector $x\\neq 0$ such that $Ax = \\lambda x$. The vector x is referred to as an eigenvector."
      ],
      "metadata": {
        "id": "xCIIZY6Sg3L7"
      }
    },
    {
      "cell_type": "code",
      "source": [
        "#The code shows how to calculate eigenvalues and eigenvectors using python\n",
        "import numpy as np\n",
        "from numpy.linalg import eig\n",
        "x = np.array([ [7, -1], [3, 2] ])\n",
        "w,v = eig(x)\n",
        "print('E-value:', w)\n",
        "print('E-vector', v)"
      ],
      "metadata": {
        "colab": {
          "base_uri": "https://localhost:8080/"
        },
        "id": "HKB81PV7lJrA",
        "outputId": "5e3fffb4-e3ef-4d77-a004-b08f5db08a7f"
      },
      "execution_count": 2,
      "outputs": [
        {
          "output_type": "stream",
          "name": "stdout",
          "text": [
            "E-value: [6.30277564 2.69722436]\n",
            "E-vector [[0.82030016 0.22637487]\n",
            " [0.57193326 0.97404026]]\n"
          ]
        }
      ]
    },
    {
      "cell_type": "markdown",
      "source": [
        "In general, $A \\in ℝ^{d*d}$ has at most d distinct eigenvalues.\n",
        "\n",
        "Theorem - If A is symmetric,then any two eigenvectors from different\n",
        "eigenspaces are orthogonal."
      ],
      "metadata": {
        "id": "tnQU0LLWmXGI"
      }
    },
    {
      "cell_type": "markdown",
      "source": [
        "# 1.3 Linear Regression"
      ],
      "metadata": {
        "id": "huRwn-CVqYi8"
      }
    },
    {
      "cell_type": "markdown",
      "source": [
        "1.3.1 QR Decomposition\n",
        "\n",
        "QR decomposition is a useful procedure to solve the linear least squares\n",
        "problem. It breaks down a matrix A in to two parts Q and R such that R is upper-triangular. A=QR."
      ],
      "metadata": {
        "id": "eldkSgL7qcKc"
      }
    },
    {
      "cell_type": "code",
      "source": [
        "#The code shows an example of QR decompositiong with python\n",
        "import numpy as np\n",
        "from numpy.linalg import qr\n",
        "x = np.array([[3, 2], [7, 5]])\n",
        "\n",
        "Q,R = qr(x)\n",
        "print('Q:', Q)\n",
        "print('R:', R)\n",
        "\n",
        "#Now check if the dot product QR brought back the origional matrix A\n",
        "A = np.dot(Q, R)\n",
        "print('QR:', A)"
      ],
      "metadata": {
        "colab": {
          "base_uri": "https://localhost:8080/"
        },
        "id": "H6WBgQpyrFLl",
        "outputId": "960f411a-c9b6-4c62-eb41-71bcbfa16093"
      },
      "execution_count": 3,
      "outputs": [
        {
          "output_type": "stream",
          "name": "stdout",
          "text": [
            "Q: [[-0.3939193  -0.91914503]\n",
            " [-0.91914503  0.3939193 ]]\n",
            "R: [[-7.61577311 -5.38356375]\n",
            " [ 0.          0.13130643]]\n",
            "QR: [[3. 2.]\n",
            " [7. 5.]]\n"
          ]
        }
      ]
    },
    {
      "cell_type": "markdown",
      "source": [
        "1.3.2 Least-squares Problems\n",
        "\n",
        "Let $A\\in ℝ^{n*m}$ be an n*m matrix and $b \\in ℝ^n$ be a vector. When n>m, we can not just simply use the matrix inverse, then we can cast is as the least-squares problem. $min_{x\\inℝ^m}\\left\\lVert Ax-b\\right\\rVert$.\n",
        "\n",
        "The least square regression formula is:\n",
        "$\\beta = (A^TA)^{-1}A^TY$."
      ],
      "metadata": {
        "id": "wiOA7o7vraVH"
      }
    },
    {
      "cell_type": "code",
      "source": [
        "#The least-square regression with y = 1 + x + x * np.random.random(len(x))\n",
        "import numpy as np\n",
        "from scipy import optimize\n",
        "import matplotlib.pyplot as plt\n",
        "\n",
        "# generate x and y\n",
        "x = np.linspace(0, 1, 101)\n",
        "y = 1 + x + x * np.random.random(len(x))\n",
        "\n",
        "# assemble matrix A\n",
        "A = np.vstack([x, np.ones(len(x))]).T\n",
        "\n",
        "# turn y into a column vector\n",
        "y = y[:, np.newaxis]\n",
        "\n",
        "# Direct least square regression\n",
        "alpha = np.dot((np.dot(np.linalg.inv(np.dot(A.T,A)),A.T)),y)\n",
        "print(alpha)"
      ],
      "metadata": {
        "colab": {
          "base_uri": "https://localhost:8080/"
        },
        "id": "wfGgONeltr1W",
        "outputId": "73010c01-f7e0-44c6-b3d2-86e75240747b"
      },
      "execution_count": 4,
      "outputs": [
        {
          "output_type": "stream",
          "name": "stdout",
          "text": [
            "[[1.53188603]\n",
            " [0.98528427]]\n"
          ]
        }
      ]
    },
    {
      "cell_type": "code",
      "source": [
        "# plot the results\n",
        "plt.figure(figsize = (10,8))\n",
        "plt.plot(x, y, 'b.')\n",
        "plt.plot(x, alpha[0]*x + alpha[1], 'r')\n",
        "plt.xlabel('x')\n",
        "plt.ylabel('y')\n",
        "plt.show()"
      ],
      "metadata": {
        "colab": {
          "base_uri": "https://localhost:8080/",
          "height": 696
        },
        "id": "sz730xWUt0Bv",
        "outputId": "c2a72f42-4374-411a-fd57-25139c7f3dea"
      },
      "execution_count": 5,
      "outputs": [
        {
          "output_type": "display_data",
          "data": {
            "text/plain": [
              "<Figure size 1000x800 with 1 Axes>"
            ],
            "image/png": "[encoded data removed]"
          },
          "metadata": {}
        }
      ]
    }
  ]
}